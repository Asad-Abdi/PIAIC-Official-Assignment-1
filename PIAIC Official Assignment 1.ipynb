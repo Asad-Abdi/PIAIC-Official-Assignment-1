{
 "cells": [
  {
   "cell_type": "markdown",
   "metadata": {},
   "source": [
    "# 1. Calculate Area of a Circle"
   ]
  },
  {
   "cell_type": "code",
   "execution_count": null,
   "metadata": {},
   "outputs": [],
   "source": [
    "rad = int(input(\"Input Radius:\"))\n",
    "area = 3.1415 * rad * rad\n",
    "print(\"Area of Circle with radius \" + str(rad) + \" is \" + str(area))"
   ]
  },
  {
   "cell_type": "markdown",
   "metadata": {},
   "source": [
    "# 2. Check Number either positive, negative or zero"
   ]
  },
  {
   "cell_type": "code",
   "execution_count": null,
   "metadata": {},
   "outputs": [],
   "source": [
    "num = int(input(\"Enter number:\"))\n",
    "if num < 0:\n",
    "    print(\"Negative Number Entered\")\n",
    "elif num > 0:\n",
    "    print(\"Positive Number Entered\")\n",
    "else:\n",
    "    print(\"Zero Entered\")        \n",
    "       "
   ]
  },
  {
   "cell_type": "markdown",
   "metadata": {},
   "source": [
    "# 3. Divisibility Check of two numbers"
   ]
  },
  {
   "cell_type": "code",
   "execution_count": null,
   "metadata": {},
   "outputs": [],
   "source": [
    "num1 = int(input(\"Enter Numerator:\"))\n",
    "num2 = int(input(\"Enter Denominator:\"))\n",
    "if num1 % num2 == 0:\n",
    "    print(\"Number \" + str(num1) +\" is Completely divisible by \"+ str(num2))\n",
    "if num1 % num2 != 0:\n",
    "    print(\"Number \" + str(num1) +\" is not Completely divisible by \"+ str(num2))"
   ]
  },
  {
   "cell_type": "markdown",
   "metadata": {},
   "source": [
    "# 4. Days Calculator"
   ]
  },
  {
   "cell_type": "code",
   "execution_count": null,
   "metadata": {},
   "outputs": [],
   "source": [
    "import datetime\n",
    "from datetime import timedelta\n",
    "d1 = input(\"Enter a date in (dd/mm/yy) format: \")\n",
    "year, month, day = map(int, d1.split('/'))\n",
    "d2 = input(\"Enter a date in (dd/mm/yy) format: \")\n",
    "year1, month1, day1 = map(int, d2.split('/'))\n",
    "date1 = datetime.date(day, month,year )\n",
    "date2 = datetime.date(day1, month1,year1 )\n",
    "diff = date1 - date2\n",
    "print(abs(diff.days))"
   ]
  },
  {
   "cell_type": "markdown",
   "metadata": {},
   "source": [
    "#  5. Calculate Volume of a sphere"
   ]
  },
  {
   "cell_type": "code",
   "execution_count": null,
   "metadata": {},
   "outputs": [],
   "source": [
    "rad = int(input(\"enter radius of sphere:\"))\n",
    "vol = 4 / 3 * 3.14 * (rad ** 3)\n",
    "print(\"Volume of the Sphere with Radius \" + str(rad) + \" is \" + str(vol))"
   ]
  },
  {
   "cell_type": "markdown",
   "metadata": {},
   "source": [
    "# 6. Copy string n times"
   ]
  },
  {
   "cell_type": "code",
   "execution_count": null,
   "metadata": {},
   "outputs": [],
   "source": [
    "d = input(\"Enter string: \")\n",
    "e = int(input(\"How many copies of String you need: \"))\n",
    "f=\"\"\n",
    "for x in range(e):\n",
    "   f = str(f + d)\n",
    "print (str(e) + \"  Copies of \"+ str(d) +\" are \" + str(f), end=\"\")    "
   ]
  },
  {
   "cell_type": "markdown",
   "metadata": {},
   "source": [
    "# 7. Check if number is Even or Odd\n"
   ]
  },
  {
   "cell_type": "code",
   "execution_count": null,
   "metadata": {},
   "outputs": [],
   "source": [
    "num = int(input(\"Enter a number: \"))\n",
    "if num % 2 == 0:\n",
    "    print(str(num) + \" Is even\")\n",
    "elif num % 2 != 0:\n",
    "    print(str(num) + \" Is odd\")\n",
    "\n",
    "    \n",
    "\n",
    "    "
   ]
  },
  {
   "cell_type": "markdown",
   "metadata": {},
   "source": [
    "# 8. Vowel Tester"
   ]
  },
  {
   "cell_type": "code",
   "execution_count": null,
   "metadata": {},
   "outputs": [],
   "source": [
    "vows = [\"a\",\"A\",\"e\",\"E\",\"I\",\"i\",\"O\",\"o\",\"u\",\"U\"]\n",
    "inp = input(\"Enter a character: \")\n",
    "\n",
    "for b in vows:\n",
    "    if inp == b:\n",
    "        \n",
    "        print(\"Letter \"+ inp +\" is Vowel\")\n",
    "        break\n",
    "else:\n",
    "    print(\"Letter \"+ inp +\" is not Vowel\")\n"
   ]
  },
  {
   "cell_type": "markdown",
   "metadata": {},
   "source": [
    "# 9. Triangle area"
   ]
  },
  {
   "cell_type": "code",
   "execution_count": null,
   "metadata": {},
   "outputs": [],
   "source": [
    "b = int(input(\"Enter base: \"))\n",
    "h = int(input(\"Enter height: \"))\n",
    "area = 1 / 2 * b * h \n",
    "print(area)"
   ]
  },
  {
   "cell_type": "markdown",
   "metadata": {},
   "source": [
    "# 10. Calculate Interest\n"
   ]
  },
  {
   "cell_type": "code",
   "execution_count": null,
   "metadata": {},
   "outputs": [],
   "source": [
    "p= float(input(\"Please enter principal amount: \"))\n",
    "r = float(input(\"Please Enter Rate of interest in %: \"))\n",
    "t = int(input(\"Enter number of years for investment: \"))\n",
    "I = p * (r/100) * t\n",
    "print(\"After \" + str(t) +\" years your principal amount \" + str(p) + \" over an interest rate of \" + str(r) + \" % will be \"+ str(I))"
   ]
  },
  {
   "cell_type": "markdown",
   "metadata": {},
   "source": [
    "# 11. Euclidean distance"
   ]
  },
  {
   "cell_type": "code",
   "execution_count": null,
   "metadata": {},
   "outputs": [],
   "source": [
    "import math\n",
    "x1 = int(input(\"Enter Co-ordinate for x1:  \"))\n",
    "x2 = int(input(\"Enter Co-ordinate for x2:  \"))\n",
    "y1 = int(input(\"Enter Co-ordinate for y1:  \"))\n",
    "y2 = int(input(\"Enter Co-ordinate for y2:  \"))\n",
    "e = ((x1-x2)**2 + (y1-y2)**2) ** 0.5 \n",
    "print(\"Distance is: \"+ str(e))\n"
   ]
  },
  {
   "cell_type": "markdown",
   "metadata": {},
   "source": [
    "# 12. Feet to Centimeter Converter"
   ]
  },
  {
   "cell_type": "code",
   "execution_count": null,
   "metadata": {},
   "outputs": [],
   "source": [
    "ft = float(input(\"Enter Height in Feet: \"))\n",
    "cm = ft * 30.48\n",
    "print(str(ft) + \" ft = \" + str(cm) + \" cm \" )"
   ]
  },
  {
   "cell_type": "markdown",
   "metadata": {},
   "source": [
    "# 13. BMI Calculator"
   ]
  },
  {
   "cell_type": "code",
   "execution_count": null,
   "metadata": {},
   "outputs": [],
   "source": [
    "h = int(input(\"Enter Height in Cm: \"))\n",
    "w = int(input(\"Enter Weight in Kg: \"))\n",
    "hm = h / 100\n",
    "bmi = w / (hm ** 2)\n",
    "print(round(bmi,2)) \n"
   ]
  },
  {
   "cell_type": "markdown",
   "metadata": {},
   "source": [
    "# 14. Sum of n Positive Integers"
   ]
  },
  {
   "cell_type": "code",
   "execution_count": null,
   "metadata": {},
   "outputs": [],
   "source": [
    "n = int(input(\"Enter value of n: \"))\n",
    "total = n * (n+1) / 2\n",
    "print(int(total))\n",
    "\n",
    "    "
   ]
  },
  {
   "cell_type": "markdown",
   "metadata": {},
   "source": [
    "# 15. Digits Sum of a Number"
   ]
  },
  {
   "cell_type": "code",
   "execution_count": null,
   "metadata": {},
   "outputs": [],
   "source": [
    "n = input(\"Enter a number: \")\n",
    "m = 0\n",
    "s=\" + \"\n",
    "seqas = n[0:len(n)]\n",
    "for n in n:\n",
    "    \n",
    "    m  += int(n)\n",
    "   \n",
    "print(\"sum of \"+ s.join(seqas) + \" is \" +str(m))   \n",
    "    "
   ]
  },
  {
   "cell_type": "markdown",
   "metadata": {},
   "source": [
    "# 16. Decimal to Binary Converter"
   ]
  },
  {
   "cell_type": "code",
   "execution_count": null,
   "metadata": {
    "scrolled": false
   },
   "outputs": [],
   "source": [
    "n = int(input(\"Enter a decimal number: \"))\n",
    "m = bin(n)\n",
    "print(\"Binary Representation of \"+ str(n) + \" is \" + str(m[2:len(m)]))\n"
   ]
  },
  {
   "cell_type": "markdown",
   "metadata": {},
   "source": [
    "# 17. Binary to Decimal Converter"
   ]
  },
  {
   "cell_type": "code",
   "execution_count": null,
   "metadata": {},
   "outputs": [],
   "source": [
    "n = input(\"Enter a binary number: \")\n",
    "m = int(n,2)\n",
    "print(\"Binary Representation of \"+ str(n) + \" is \" + str(m))\n"
   ]
  },
  {
   "cell_type": "markdown",
   "metadata": {},
   "source": [
    "# 18. Vowel and Consonants Counter"
   ]
  },
  {
   "cell_type": "code",
   "execution_count": null,
   "metadata": {},
   "outputs": [],
   "source": [
    "text = input(\"Enter text: \")\n",
    "vowels=[\"A\",\"a\",\"E\",\"e\",\"I\",\"i\",\"O\",\"o\",\"U\",\"u\",]\n",
    "vows_count = 0\n",
    "cons_count = 0\n",
    "for i in text.strip( \" \" ):\n",
    "    for l in vowels:\n",
    "        if i == l:\n",
    "            vows_count += 1\n",
    "            break\n",
    "    else:\n",
    "        cons_count += 1\n",
    "print(\"Vowels: \" + str(vows_count))\n",
    "print(\"consonants: \" + str(cons_count)) "
   ]
  },
  {
   "cell_type": "markdown",
   "metadata": {},
   "source": [
    "# 19. Palindrome tester"
   ]
  },
  {
   "cell_type": "code",
   "execution_count": null,
   "metadata": {},
   "outputs": [],
   "source": [
    "text = input(\"Enter text: \")\n",
    "txt = text [::-1]\n",
    "if txt == text:\n",
    "    print( text +\" is palindrome \")\n",
    "else:        \n",
    "    print( text +\" is not palindrome \")"
   ]
  },
  {
   "cell_type": "markdown",
   "metadata": {},
   "source": [
    "# 20. Count Alphabets, Numbers and Special Characters\n"
   ]
  },
  {
   "cell_type": "code",
   "execution_count": null,
   "metadata": {},
   "outputs": [],
   "source": [
    "string = input(\"Enter text: \")\n",
    "alph = dig = spech = space = 0\n",
    "for i in range(len(string)):\n",
    "    if(string[i].isalpha()):\n",
    "        alph = alph + 1\n",
    "    elif(string[i].isdigit()):\n",
    "        dig = dig + 1\n",
    "    elif(string[i].isspace()):\n",
    "        space = space +  1\n",
    "    else:\n",
    "        spech = spech + 1\n",
    "print(\"alphabets: \" + str(alph) )\n",
    "print(\"digits: \" + str(dig) )\n",
    "print(\"Special Character: \" + str(spech) )\n",
    "print(\"Spaces: \" + str(space) )\n",
    "        "
   ]
  },
  {
   "cell_type": "markdown",
   "metadata": {},
   "source": [
    "# 21. Write a Python program to construct the following pattern\n"
   ]
  },
  {
   "cell_type": "code",
   "execution_count": null,
   "metadata": {},
   "outputs": [],
   "source": [
    "for i in range(0,5):\n",
    "    for j in range(0,i):\n",
    "        print('*',end=\"\")\n",
    "    print(\"\\r\")   \n",
    "for i in range(5,0,-1):\n",
    "    for j in range(0,i):\n",
    "        print('*',end=\"\")\n",
    "    print(\"\\r\")       "
   ]
  },
  {
   "cell_type": "markdown",
   "metadata": {},
   "source": [
    "# 22. Write a Python program to construct the following pattern"
   ]
  },
  {
   "cell_type": "code",
   "execution_count": null,
   "metadata": {},
   "outputs": [],
   "source": [
    "for i in range(1,6):\n",
    "    for j in range(1,i):\n",
    "        print(j,end=\"\")\n",
    "    print(\"\\r\")   \n",
    "for i in range(6,1,-1):\n",
    "    for j in range(1,i):\n",
    "        print(j,end=\"\")\n",
    "    print(\"\\r\")"
   ]
  },
  {
   "cell_type": "markdown",
   "metadata": {},
   "source": [
    "# 23. Write a Python program to construct the following pattern\n"
   ]
  },
  {
   "cell_type": "code",
   "execution_count": null,
   "metadata": {
    "scrolled": false
   },
   "outputs": [],
   "source": [
    "for i in range(1,10):\n",
    "    for j in range(0,i):\n",
    "        print(i,end=\"\")\n",
    "    print(\"\\r\")\n",
    "   "
   ]
  }
 ],
 "metadata": {
  "kernelspec": {
   "display_name": "Python 3",
   "language": "python",
   "name": "python3"
  },
  "language_info": {
   "codemirror_mode": {
    "name": "ipython",
    "version": 3
   },
   "file_extension": ".py",
   "mimetype": "text/x-python",
   "name": "python",
   "nbconvert_exporter": "python",
   "pygments_lexer": "ipython3",
   "version": "3.7.3"
  }
 },
 "nbformat": 4,
 "nbformat_minor": 2
}
